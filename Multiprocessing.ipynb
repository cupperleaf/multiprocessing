{
 "cells": [
  {
   "cell_type": "markdown",
   "id": "929307dd-268c-495c-96f2-cdb3f3ebe574",
   "metadata": {},
   "source": [
    "Q1. What is multiprocessing in python? Why is it useful?"
   ]
  },
  {
   "cell_type": "raw",
   "id": "30aac84e-f963-4eff-8f40-c1a207523529",
   "metadata": {},
   "source": [
    "Multiprocessing refers to the ability of a system to support more than one processor at the same time. Applications in a multiprocessing system are broken to smaller routines that run independently. The operating system allocates these threads to the processors improving performance of the system."
   ]
  },
  {
   "cell_type": "code",
   "execution_count": null,
   "id": "0b0f9fe4-58f0-4c8d-a8a8-69770aa770ab",
   "metadata": {},
   "outputs": [],
   "source": []
  },
  {
   "cell_type": "markdown",
   "id": "50151c23-44ed-4678-af7a-709572aaa302",
   "metadata": {},
   "source": [
    "Q2. What are the differences between multiprocessing and multithreading?"
   ]
  },
  {
   "cell_type": "raw",
   "id": "1e7ba316-ff62-429d-a1fe-895f1a12e2a9",
   "metadata": {},
   "source": [
    "1)Multiprocessing uses two or more CPUs to increase computing power, whereas multithreading uses a single process with multiple code segments to increase computing power.\n",
    "2)Multithreading focuses on generating computing threads from a single process, whereas multiprocessing increases computing power by adding CPUs.\n",
    "3)Multiprocessing is used to create a more reliable system, whereas multithreading is used to create threads that run parallel to each other.\n",
    "4)Multithreading is quick to create and requires few resources, whereas multiprocessing requires a significant amount of time and specific resources to create."
   ]
  },
  {
   "cell_type": "code",
   "execution_count": null,
   "id": "bd6764ea-793c-4d22-bdb7-5c7fe1dd5e78",
   "metadata": {},
   "outputs": [],
   "source": []
  },
  {
   "cell_type": "markdown",
   "id": "3550da07-1235-4c91-bdf2-f05db45cb709",
   "metadata": {},
   "source": [
    "Q3. Write a python code to create a process using the multiprocessing module."
   ]
  },
  {
   "cell_type": "code",
   "execution_count": 1,
   "id": "31f8ae6a-cf07-481d-b5b3-816a51ad5cd7",
   "metadata": {},
   "outputs": [
    {
     "name": "stdout",
     "output_type": "stream",
     "text": [
      "this is my main prog\n",
      "this is my multiprocessing prog\n"
     ]
    }
   ],
   "source": [
    "import multiprocessing\n",
    "def test():\n",
    "    print(\"this is my multiprocessing prog\")\n",
    "\n",
    "if __name__ == '__main__':\n",
    "    m = multiprocessing.Process(target=test)\n",
    "    print(\"this is my main prog\")\n",
    "    m.start()\n",
    "    m.join()"
   ]
  },
  {
   "cell_type": "code",
   "execution_count": null,
   "id": "721d7901-8fa9-4483-88f3-50dc021d5499",
   "metadata": {},
   "outputs": [],
   "source": []
  },
  {
   "cell_type": "markdown",
   "id": "e2b1bc1c-a9e8-4e1f-8666-ad0adf1f03b0",
   "metadata": {},
   "source": [
    "Q4. What is a multiprocessing pool in python? Why is it used?"
   ]
  },
  {
   "cell_type": "raw",
   "id": "8096917b-c4af-485a-bae7-b7f24226951e",
   "metadata": {},
   "source": [
    "The multiprocessing.pool.Pool class provides a process pool in Python.\n",
    "The multiprocessing.Pool is generally used for heterogeneous tasks."
   ]
  },
  {
   "cell_type": "code",
   "execution_count": null,
   "id": "6834f435-98dd-4db5-8276-87c88a278fc7",
   "metadata": {},
   "outputs": [],
   "source": []
  },
  {
   "cell_type": "markdown",
   "id": "005f2d8c-90ca-45a8-b804-0a2ca3f31ba0",
   "metadata": {},
   "source": [
    "Q5. Write a python program to create 4 processes, each process should print a different number using multiprocessing module in python."
   ]
  },
  {
   "cell_type": "code",
   "execution_count": 2,
   "id": "417a879a-995c-4582-8067-7c431e2217fc",
   "metadata": {},
   "outputs": [
    {
     "name": "stdout",
     "output_type": "stream",
     "text": [
      "The name of continent is :  1\n",
      "The name of continent is :  2\n",
      "The name of continent is :  4\n",
      "The name of continent is :  6\n"
     ]
    }
   ],
   "source": [
    "from multiprocessing import Process\n",
    "\n",
    "\n",
    "def print_func(num=1):\n",
    "    print('The name of continent is : ', num)\n",
    "\n",
    "if __name__ == \"__main__\":  # confirms that the code is under main function\n",
    "    names = [2, 4, 6]\n",
    "    procs = []\n",
    "    proc = Process(target=print_func)  # instantiating without any argument\n",
    "    procs.append(proc)\n",
    "    proc.start()\n",
    "\n",
    "    # instantiating process with arguments\n",
    "    for name in names:\n",
    "        # print(name)\n",
    "        proc = Process(target=print_func, args=(name,))\n",
    "        procs.append(proc)\n",
    "        proc.start()\n",
    "\n",
    "    # complete the processes\n",
    "    for proc in procs:\n",
    "        proc.join()"
   ]
  },
  {
   "cell_type": "code",
   "execution_count": null,
   "id": "dc6f839b-a2b3-4a7c-a741-cbbfde153709",
   "metadata": {},
   "outputs": [],
   "source": []
  },
  {
   "cell_type": "markdown",
   "id": "c14c1f9d-4711-472b-9159-bf4e55cf025a",
   "metadata": {},
   "source": []
  },
  {
   "cell_type": "code",
   "execution_count": null,
   "id": "27167cd4-b525-4f40-b9f1-d13cc8a5721f",
   "metadata": {},
   "outputs": [],
   "source": []
  }
 ],
 "metadata": {
  "kernelspec": {
   "display_name": "Python 3 (ipykernel)",
   "language": "python",
   "name": "python3"
  },
  "language_info": {
   "codemirror_mode": {
    "name": "ipython",
    "version": 3
   },
   "file_extension": ".py",
   "mimetype": "text/x-python",
   "name": "python",
   "nbconvert_exporter": "python",
   "pygments_lexer": "ipython3",
   "version": "3.10.8"
  }
 },
 "nbformat": 4,
 "nbformat_minor": 5
}
